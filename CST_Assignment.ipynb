{
 "cells": [
  {
   "cell_type": "markdown",
   "metadata": {},
   "source": [
    "## Analysis Notebook, CST Assignment and Figures\n",
    "\n",
    "### This notebook contains:\n",
    "\n",
    "CST Assignment for Estrous cycle staging study\n",
    "\n",
    "CST Assignment for GBS Pathogen Challenge"
   ]
  },
  {
   "cell_type": "code",
   "execution_count": 1,
   "metadata": {},
   "outputs": [],
   "source": [
    "import pandas as pd\n",
    "import matplotlib.pyplot as plt\n",
    "import numpy as np\n",
    "\n",
    "from scipy.cluster.hierarchy import dendrogram, linkage\n",
    "from scipy.cluster.hierarchy import fcluster\n",
    "\n",
    "from sklearn import metrics\n",
    "\n",
    "%matplotlib inline"
   ]
  },
  {
   "cell_type": "code",
   "execution_count": 2,
   "metadata": {},
   "outputs": [],
   "source": [
    "#Reading in the mapping files for both studies\n",
    "\n",
    "mapping_Estrous = pd.read_table('Raw_Files_Estrous_Stage/Qiime_Mapping_File.txt', index_col=0)\n",
    "\n",
    "mapping_GBS = pd.read_table('Raw_Files_GBS_Challenge/Qiime_Mapping_File_GBS_Pathogen_Challenge.txt', index_col=0)"
   ]
  },
  {
   "cell_type": "code",
   "execution_count": 3,
   "metadata": {},
   "outputs": [],
   "source": [
    "#Reading in the tables for both studies\n",
    "\n",
    "table_Estrous = pd.read_table('Results_Files_Estrous_Stage/reference_hit_updated_ContaminationRemoved_400Rare.txt', \n",
    "                              header=1, index_col=0)\n",
    "\n",
    "table_GBS = pd.read_table('Results_Files_GBS_Challenge/reference_hit_updated_ContaminationRemoved_GBS_PBS_500Rare.txt',\n",
    "                          header=1, index_col=0)\n",
    "\n",
    "#Inverting the tables\n",
    "\n",
    "table_Estrous = table_Estrous.T\n",
    "\n",
    "table_GBS = table_GBS.T"
   ]
  },
  {
   "cell_type": "markdown",
   "metadata": {},
   "source": [
    "### CST Assignment Estrous Cycle Staging Study"
   ]
  },
  {
   "cell_type": "markdown",
   "metadata": {},
   "source": [
    "Hierarchial Clustering was performed with help from this excellent blog post by Jörn Hees:\n",
    "\n",
    "https://joernhees.de/blog/2015/08/26/scipy-hierarchical-clustering-and-dendrogram-tutorial/"
   ]
  },
  {
   "cell_type": "code",
   "execution_count": 4,
   "metadata": {},
   "outputs": [],
   "source": [
    "#Hierarchial Clustering, see scipy.cluster.hierarchy.linkage for more information\n",
    "\n",
    "eucledian_Estrous = linkage(table_Estrous, method='ward', metric='euclidean')"
   ]
  },
  {
   "cell_type": "code",
   "execution_count": 5,
   "metadata": {},
   "outputs": [],
   "source": [
    "#Code is from blog post noted above, by Jörn Hees\n",
    "\n",
    "def fancy_dendrogram(*args, **kwargs):\n",
    "    max_d = kwargs.pop('max_d', None)\n",
    "    if max_d and 'color_threshold' not in kwargs:\n",
    "        kwargs['color_threshold'] = max_d\n",
    "    annotate_above = kwargs.pop('annotate_above', 0)\n",
    "\n",
    "    ddata = dendrogram(*args, **kwargs)\n",
    "\n",
    "    if not kwargs.get('no_plot', False):\n",
    "        plt.title('Hierarchical Clustering Dendrogram (truncated)')\n",
    "        plt.xlabel('sample index or (cluster size)')\n",
    "        plt.ylabel('distance')\n",
    "        for i, d, c in zip(ddata['icoord'], ddata['dcoord'], ddata['color_list']):\n",
    "            x = 0.5 * sum(i[1:3])\n",
    "            y = d[1]\n",
    "            if y > annotate_above:\n",
    "                plt.plot(x, y, 'o', c=c)\n",
    "                plt.annotate(\"%.3g\" % y, (x, y), xytext=(0, -5),\n",
    "                             textcoords='offset points',\n",
    "                             va='top', ha='center')\n",
    "        if max_d:\n",
    "            plt.axhline(y=max_d, c='k')\n",
    "    return ddata"
   ]
  },
  {
   "cell_type": "code",
   "execution_count": 6,
   "metadata": {},
   "outputs": [
    {
     "data": {
      "image/png": "[encoded data removed]",
      "text/plain": [
       "<matplotlib.figure.Figure at 0x1a11ca9780>"
      ]
     },
     "metadata": {},
     "output_type": "display_data"
    }
   ],
   "source": [
    "#Code is from blog post noted above, by Jörn Hees\n",
    "#Visualization of the clusters\n",
    "\n",
    "fancy_dendrogram(\n",
    "    eucledian_Estrous,\n",
    "    truncate_mode='lastp',\n",
    "    p=6,\n",
    "    leaf_rotation=90.,\n",
    "    leaf_font_size=12.,\n",
    "    show_contracted=True,\n",
    "    annotate_above=10,  \n",
    ")\n",
    "plt.show()"
   ]
  },
  {
   "cell_type": "code",
   "execution_count": 7,
   "metadata": {},
   "outputs": [],
   "source": [
    "#CST Assignments\n",
    "\n",
    "euc_cluster = fcluster(eucledian_Estrous, 5, criterion='maxclust')\n",
    "\n",
    "euc_cluster_4 = fcluster(eucledian_Estrous, 4, criterion='maxclust')"
   ]
  },
  {
   "cell_type": "code",
   "execution_count": 8,
   "metadata": {},
   "outputs": [
    {
     "name": "stdout",
     "output_type": "stream",
     "text": [
      "0.726174584044\n",
      "0.713292514464\n"
     ]
    }
   ],
   "source": [
    "#Checking the silhouette score of the assignments\n",
    "\n",
    "print(metrics.silhouette_score(table_Estrous, euc_cluster, metric='euclidean'))\n",
    "print(metrics.silhouette_score(table_Estrous, euc_cluster_4, metric='euclidean'))"
   ]
  },
  {
   "cell_type": "code",
   "execution_count": 9,
   "metadata": {},
   "outputs": [],
   "source": [
    "#Creating a dataframe from the CST Assignments\n",
    "\n",
    "order = table_Estrous.index\n",
    "\n",
    "label = ['CST_Euc']\n",
    "\n",
    "Estrous_Study_CST = pd.DataFrame(euc_cluster, index=order, columns=label)"
   ]
  },
  {
   "cell_type": "code",
   "execution_count": 10,
   "metadata": {},
   "outputs": [],
   "source": [
    "#Appending these assingments to a new mapping file\n",
    "\n",
    "mapping_Estrous_update = pd.merge(mapping_Estrous, Estrous_Study_CST, left_index=True, right_index=True)\n",
    "\n",
    "#Writing this to a .txt file\n",
    "\n",
    "mapping_Estrous_update.to_csv('Qiime_Mapping_File_Estrous_Staging_CST.txt', sep='\\t')"
   ]
  },
  {
   "cell_type": "markdown",
   "metadata": {},
   "source": [
    "This updated mapping file was then edited to add other categories for comparison "
   ]
  },
  {
   "cell_type": "markdown",
   "metadata": {},
   "source": [
    "### CST Assignment for GBS Pathogen Challenge"
   ]
  },
  {
   "cell_type": "code",
   "execution_count": 13,
   "metadata": {},
   "outputs": [],
   "source": [
    "#Hierarchial Clustering, see scipy.cluster.hierarchy.linkage for more information\n",
    "\n",
    "eucledian_GBS = linkage(table_GBS, method='ward', metric='euclidean')"
   ]
  },
  {
   "cell_type": "code",
   "execution_count": 14,
   "metadata": {},
   "outputs": [
    {
     "data": {
      "image/png": "[encoded data removed]",
      "text/plain": [
       "<matplotlib.figure.Figure at 0x1a11abf908>"
      ]
     },
     "metadata": {},
     "output_type": "display_data"
    }
   ],
   "source": [
    "#Code is from blog post noted above, by Jörn Hees\n",
    "#Visualization of the clusters\n",
    "\n",
    "fancy_dendrogram(\n",
    "    eucledian_GBS,\n",
    "    truncate_mode='lastp',\n",
    "    p=6,\n",
    "    leaf_rotation=90.,\n",
    "    leaf_font_size=12.,\n",
    "    show_contracted=True,\n",
    "    annotate_above=10,  \n",
    ")\n",
    "plt.show()"
   ]
  },
  {
   "cell_type": "code",
   "execution_count": 15,
   "metadata": {},
   "outputs": [],
   "source": [
    "#CST Assignments\n",
    "\n",
    "euc_cluster_GBS = fcluster(eucledian_GBS, 6, criterion='maxclust')\n",
    "\n",
    "euc_cluster_GBS_5 = fcluster(eucledian_GBS, 5, criterion='maxclust')\n",
    "\n",
    "euc_cluster_GBS_4 = fcluster(eucledian_GBS, 4, criterion='maxclust')\n"
   ]
  },
  {
   "cell_type": "code",
   "execution_count": 16,
   "metadata": {},
   "outputs": [
    {
     "name": "stdout",
     "output_type": "stream",
     "text": [
      "0.672993580535\n",
      "0.639866149799\n",
      "0.646010512947\n"
     ]
    }
   ],
   "source": [
    "#Checking the silhouette score of the assignments\n",
    "\n",
    "print(metrics.silhouette_score(table_GBS, euc_cluster_GBS, metric='euclidean'))\n",
    "print(metrics.silhouette_score(table_GBS, euc_cluster_GBS_5, metric='euclidean'))\n",
    "print(metrics.silhouette_score(table_GBS, euc_cluster_GBS_4, metric='euclidean'))"
   ]
  },
  {
   "cell_type": "code",
   "execution_count": 17,
   "metadata": {},
   "outputs": [],
   "source": [
    "#Creating a dataframe from the CST Assignments\n",
    "\n",
    "order = table_GBS.index\n",
    "\n",
    "label = ['CST_Euc']\n",
    "\n",
    "GBS_Study_CST = pd.DataFrame(euc_cluster_GBS, index=order, columns=label)"
   ]
  },
  {
   "cell_type": "code",
   "execution_count": 19,
   "metadata": {},
   "outputs": [],
   "source": [
    "#Appending these assingments to a new mapping file\n",
    "\n",
    "mapping_GBS_update = pd.merge(mapping_GBS, GBS_Study_CST, left_index=True, right_index=True)\n",
    "\n",
    "#Writing this to a .txt file\n",
    "\n",
    "mapping_GBS_update.to_csv('Qiime_Mapping_File_GBS_Pathogen_Challenge_CST.txt', sep='\\t')"
   ]
  },
  {
   "cell_type": "markdown",
   "metadata": {},
   "source": [
    "### NOTE: to make CST labels consistent between studies, the GBS CST was renamed \"6\", and other labels were swapped to be consistent with the staging study:\n",
    "\n",
    "CST I: Staphylococcus dominant\n",
    "\n",
    "CST II: Enterococcus - Staphylococcus mix\n",
    "\n",
    "CST III: Enterococcus dominant \n",
    "\n",
    "CST IV: Lactobacillus dominant\n",
    "\n",
    "CST V: High alpha diversity, misc bacteria\n",
    "\n",
    "CST VI: Streptococcus dominant (GBS)\n",
    "\n",
    "The CST name/label has no bearing on how related the CSTs are with Eucledian clustering, they are just names. Label order is not forced on the merged heatmap"
   ]
  },
  {
   "cell_type": "markdown",
   "metadata": {},
   "source": [
    "This updated mapping file was then edited to add other categories for comparison"
   ]
  },
  {
   "cell_type": "code",
   "execution_count": 21,
   "metadata": {},
   "outputs": [],
   "source": [
    "#Getting the siloutte score for the merged studies\n",
    "\n",
    "table_Merged_Rare = pd.read_table('Merged_Studies/Merged_Table_Contamination_Removed_500Rare.txt',\n",
    "                                 header=1, index_col=0)"
   ]
  },
  {
   "cell_type": "code",
   "execution_count": 22,
   "metadata": {},
   "outputs": [],
   "source": [
    "table_Merged_Rare = table_Merged_Rare.T"
   ]
  },
  {
   "cell_type": "code",
   "execution_count": 23,
   "metadata": {},
   "outputs": [],
   "source": [
    "eucledian_Merged = linkage(table_Merged_Rare, method='ward', metric='euclidean')"
   ]
  },
  {
   "cell_type": "code",
   "execution_count": 24,
   "metadata": {},
   "outputs": [],
   "source": [
    "eucledian_Merged_cluster = fcluster(eucledian_Merged, 6, criterion='maxclust')"
   ]
  },
  {
   "cell_type": "code",
   "execution_count": 25,
   "metadata": {},
   "outputs": [
    {
     "name": "stdout",
     "output_type": "stream",
     "text": [
      "0.69679849626\n"
     ]
    }
   ],
   "source": [
    "print(metrics.silhouette_score(table_Merged_Rare, eucledian_Merged_cluster, metric='euclidean'))"
   ]
  }
 ],
 "metadata": {
  "kernelspec": {
   "display_name": "Python 3",
   "language": "python",
   "name": "python3"
  },
  "language_info": {
   "codemirror_mode": {
    "name": "ipython",
    "version": 3
   },
   "file_extension": ".py",
   "mimetype": "text/x-python",
   "name": "python",
   "nbconvert_exporter": "python",
   "pygments_lexer": "ipython3",
   "version": "3.5.4"
  }
 },
 "nbformat": 4,
 "nbformat_minor": 1
}
