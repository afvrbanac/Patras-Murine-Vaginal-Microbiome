{
 "cells": [
  {
   "cell_type": "markdown",
   "metadata": {},
   "source": [
    "# Qiime 2 Analysis\n",
    "\n",
    "### Analysis was conducted with Qiime 2 version 2017.10\n",
    "\n",
    "This notebook contains Qiime commands (run on the command line) for data analysis presented in the paper. Input files for analysis are provided in the \"Raw_Files\" folders corresponding to each study. They contain:\n",
    "    \n",
    "-  Taxonomic Classification (Qiime 2 scikit-learn classifier)\n",
    "    \n",
    "-  Mapping Files for each study\n",
    "    \n",
    "-  List of \"kit-ome\" contaminants removed in each study\n",
    "    \n",
    "-  Raw Q2 Feature tables as .qza files\n",
    "\n",
    "Additionally, a results folder is provided for each study with files generated during the original analysis. Note, due to the random nature of rarefaction and random forests classification, slightly different results may be generated when executing these commands"
   ]
  },
  {
   "cell_type": "markdown",
   "metadata": {},
   "source": [
    " ### Estrous Cycle Staging Study\n",
    "\n",
    "Data Processing"
   ]
  },
  {
   "cell_type": "code",
   "execution_count": 8,
   "metadata": {},
   "outputs": [
    {
     "name": "stdout",
     "output_type": "stream",
     "text": [
      "Saved FeatureTable[Frequency] to: Results_Files_Estrous_Stage/reference_hit_updated.qza\n",
      "Saved FeatureTable[Frequency] to: Results_Files_Estrous_Stage/reference_hit_updated_ContaminationRemoved.qza\n",
      "Saved FeatureTable[Frequency] to: Results_Files_Estrous_Stage/reference_hit_updated_ContaminationRemoved.qza\n",
      "Saved FeatureTable[Frequency] to: Results_Files_Estrous_Stage/reference_hit_updated_ContaminationRemoved.qza\n",
      "Saved FeatureTable[Frequency] to: Results_Files_Estrous_Stage/reference_hit_updated_ContaminationRemoved.qza\n"
     ]
    }
   ],
   "source": [
    "%%bash -e\n",
    "\n",
    "#Removing reads that don't appear in at least two samples\n",
    "\n",
    "qiime feature-table filter-features \\\n",
    "  --i-table Raw_Files_Estrous_Stage/reference_hit_updated.qza \\\n",
    "  --p-min-samples 2 \\\n",
    "  --o-filtered-table Results_Files_Estrous_Stage/reference_hit_updated.qza\n",
    "\n",
    "#Filtering out contaminants, determined from analyzing blanks\n",
    "\n",
    "qiime feature-table filter-features \\\n",
    "--i-table Results_Files_Estrous_Stage/reference_hit_updated.qza \\\n",
    "--m-metadata-file Raw_Files_Estrous_Stage/Contaminants_All.txt \\\n",
    "--p-exclude-ids \\\n",
    "--o-filtered-table Results_Files_Estrous_Stage/reference_hit_updated_ContaminationRemoved.qza\n",
    "\n",
    "#Removing the mitochondria and chloroplasts\n",
    "\n",
    "qiime taxa filter-table \\\n",
    "  --i-table Results_Files_Estrous_Stage/reference_hit_updated_ContaminationRemoved.qza \\\n",
    "  --i-taxonomy Raw_Files_Estrous_Stage/classification.qza  \\\n",
    "  --p-exclude mitochondria,chloroplast \\\n",
    "  --o-filtered-table Results_Files_Estrous_Stage/reference_hit_updated_ContaminationRemoved.qza\n",
    "\n",
    "#Removing blanks\n",
    "\n",
    "qiime feature-table filter-samples \\\n",
    "--i-table Results_Files_Estrous_Stage/reference_hit_updated_ContaminationRemoved.qza \\\n",
    "--m-metadata-file Raw_Files_Estrous_Stage/Qiime_Mapping_File.txt \\\n",
    "--p-where \"sample_type='lavage'\" \\\n",
    "--o-filtered-table Results_Files_Estrous_Stage/reference_hit_updated_ContaminationRemoved.qza\n",
    "\n",
    "#Removing a fecal-contaminated sample\n",
    "\n",
    "qiime feature-table filter-samples \\\n",
    "--i-table Results_Files_Estrous_Stage/reference_hit_updated_ContaminationRemoved.qza \\\n",
    "--m-metadata-file Raw_Files_Estrous_Stage/Qiime_Mapping_File.txt \\\n",
    "--p-where \"contaminated='FALSE'\" \\\n",
    "--o-filtered-table Results_Files_Estrous_Stage/reference_hit_updated_ContaminationRemoved.qza\n"
   ]
  },
  {
   "cell_type": "markdown",
   "metadata": {},
   "source": [
    "### Analysis"
   ]
  },
  {
   "cell_type": "code",
   "execution_count": 7,
   "metadata": {},
   "outputs": [
    {
     "name": "stdout",
     "output_type": "stream",
     "text": [
      "Saved Visualization to: Results_Files_Estrous_Stage/Alpha_Rarefaction_Plot.qzv\n"
     ]
    }
   ],
   "source": [
    "%%bash -e\n",
    "\n",
    "#Making rarefaction plots\n",
    "qiime diversity alpha-rarefaction \\\n",
    "--i-table Results_Files_Estrous_Stage/reference_hit_updated_ContaminationRemoved.qza \\\n",
    "--p-max-depth 5000 \\\n",
    "--m-metadata-file Raw_Files_Estrous_Stage/Qiime_Mapping_File.txt \\\n",
    "--p-min-depth 100 \\\n",
    "--p-steps 100 \\\n",
    "--o-visualization Results_Files_Estrous_Stage/Alpha_Rarefaction_Plot.qzv"
   ]
  },
  {
   "cell_type": "code",
   "execution_count": 10,
   "metadata": {},
   "outputs": [
    {
     "name": "stdout",
     "output_type": "stream",
     "text": [
      "Saved FeatureTable[Frequency] to: Results_Files_Estrous_Stage/reference_hit_updated_ContaminationRemoved_400Rare.qza\n",
      "Saved Visualization to: Results_Files_Estrous_Stage/Classifier_Stage_400rare.qzv\n"
     ]
    }
   ],
   "source": [
    "%%bash -e\n",
    "\n",
    "#Rarifying the table\n",
    "\n",
    "qiime feature-table rarefy \\\n",
    "--i-table Results_Files_Estrous_Stage/reference_hit_updated_ContaminationRemoved.qza \\\n",
    "--p-sampling-depth 400 \\\n",
    "--o-rarefied-table Results_Files_Estrous_Stage/reference_hit_updated_ContaminationRemoved_400Rare.qza\n",
    "\n",
    "#Classifier by Estrous cycle stage\n",
    "\n",
    "qiime sample-classifier classify-samples \\\n",
    "--i-table Results_Files_Estrous_Stage/reference_hit_updated_ContaminationRemoved_400Rare.qza \\\n",
    "--m-metadata-file Raw_Files_Estrous_Stage/Qiime_Mapping_File.txt \\\n",
    "--m-metadata-category stage \\\n",
    "--o-visualization Results_Files_Estrous_Stage/Classifier_Stage_400rare.qzv"
   ]
  },
  {
   "cell_type": "code",
   "execution_count": 14,
   "metadata": {
    "collapsed": true
   },
   "outputs": [],
   "source": [
    "#Exporting Rarified Table, 400 seqs/sample\n",
    "\n",
    "!qiime tools export Results_Files_Estrous_Stage/reference_hit_updated_ContaminationRemoved_400Rare.qza --output-dir Results_Files_Estrous_Stage/\n"
   ]
  },
  {
   "cell_type": "code",
   "execution_count": 15,
   "metadata": {
    "collapsed": true
   },
   "outputs": [],
   "source": [
    "#Making the biom file to .txt\n",
    "\n",
    "!biom convert -i Results_Files_Estrous_Stage/reference_hit_updated_ContaminationRemoved_400Rare.biom -o Results_Files_Estrous_Stage/reference_hit_updated_ContaminationRemoved_400Rare.txt --to-tsv"
   ]
  },
  {
   "cell_type": "code",
   "execution_count": 16,
   "metadata": {},
   "outputs": [
    {
     "name": "stdout",
     "output_type": "stream",
     "text": [
      "Saved SampleData[AlphaDiversity] to: Results_Files_Estrous_Stage/Alpha_Diversity/Rare400_Shann.qza\n",
      "Saved SampleData[AlphaDiversity] to: Results_Files_Estrous_Stage/Alpha_Diversity/Rare400_o.qza\n"
     ]
    }
   ],
   "source": [
    "%%bash -e\n",
    "#Alpha Diversity\n",
    "\n",
    "qiime diversity alpha \\\n",
    "--i-table Results_Files_Estrous_Stage/reference_hit_updated_ContaminationRemoved_400Rare.qza \\\n",
    "--p-metric shannon \\\n",
    "--o-alpha-diversity Results_Files_Estrous_Stage/Alpha_Diversity/Rare400_Shannon.qza\n",
    "\n",
    "qiime diversity alpha \\\n",
    "--i-table Results_Files_Estrous_Stage/reference_hit_updated_ContaminationRemoved_400Rare.qza \\\n",
    "--p-metric observed_otus \\\n",
    "--o-alpha-diversity Results_Files_Estrous_Stage/Alpha_Diversity/Rare400_Obs_Otus.qza\n",
    "\n"
   ]
  },
  {
   "cell_type": "code",
   "execution_count": 17,
   "metadata": {},
   "outputs": [
    {
     "name": "stdout",
     "output_type": "stream",
     "text": [
      "Saved FeatureTable[Frequency] to: Results_Files_Estrous_Stage/reference_hit_updated_ContaminationRemoved_400Rare_L7.qza\n",
      "Saved FeatureTable[RelativeFrequency] to: Results_Files_Estrous_Stage/reference_hit_updated_ContaminationRemoved_400Rare_L7_Rel.qza\n"
     ]
    }
   ],
   "source": [
    "%%bash -e\n",
    "\n",
    "#Exporting the collapsed taxa for heatmap visualizaton\n",
    "\n",
    "qiime taxa collapse \\\n",
    "--i-table Results_Files_Estrous_Stage/reference_hit_updated_ContaminationRemoved_400Rare.qza \\\n",
    "--i-taxonomy Raw_Files_Estrous_Stage/classification.qza \\\n",
    "--p-level 7 \\\n",
    "--o-collapsed-table Results_Files_Estrous_Stage/reference_hit_updated_ContaminationRemoved_400Rare_L7.qza\n",
    "\n",
    "\n",
    "qiime feature-table relative-frequency \\\n",
    "--i-table Results_Files_Estrous_Stage/reference_hit_updated_ContaminationRemoved_400Rare_L7.qza \\\n",
    "--o-relative-frequency-table Results_Files_Estrous_Stage/reference_hit_updated_ContaminationRemoved_400Rare_L7_Rel.qza"
   ]
  },
  {
   "cell_type": "code",
   "execution_count": 20,
   "metadata": {
    "collapsed": true
   },
   "outputs": [],
   "source": [
    "%%bash -e\n",
    "\n",
    "qiime tools export Results_Files_Estrous_Stage/reference_hit_updated_ContaminationRemoved_400Rare_L7_Rel.qza --output-dir Results_Files_Estrous_Stage/"
   ]
  },
  {
   "cell_type": "code",
   "execution_count": 21,
   "metadata": {
    "collapsed": true
   },
   "outputs": [],
   "source": [
    "!biom convert -i Results_Files_Estrous_Stage/reference_hit_updated_ContaminationRemoved_400Rare_L7_Rel.biom -o Results_Files_Estrous_Stage/reference_hit_updated_ContaminationRemoved_400Rare_L7_Rel.txt --to-tsv"
   ]
  },
  {
   "cell_type": "code",
   "execution_count": 3,
   "metadata": {},
   "outputs": [
    {
     "name": "stdout",
     "output_type": "stream",
     "text": [
      "Saved DistanceMatrix to: Results_Files_Estrous_Stage/reference_hit_updated_ContaminationRemoved_400Rare_braycurtis.qza\n",
      "Saved DistanceMatrix to: Results_Files_Estrous_Stage/reference_hit_updated_ContaminationRemoved_400Rare_euclidean.qza\n"
     ]
    }
   ],
   "source": [
    "%%bash -e\n",
    "\n",
    "#Beta Diversity\n",
    "\n",
    "qiime diversity beta \\\n",
    "--i-table Results_Files_Estrous_Stage/reference_hit_updated_ContaminationRemoved_400Rare.qza \\\n",
    "--p-metric braycurtis \\\n",
    "--o-distance-matrix Results_Files_Estrous_Stage/reference_hit_updated_ContaminationRemoved_400Rare_braycurtis.qza\n",
    "\n",
    "qiime diversity beta \\\n",
    "--i-table Results_Files_Estrous_Stage/reference_hit_updated_ContaminationRemoved_400Rare.qza \\\n",
    "--p-metric euclidean \\\n",
    "--o-distance-matrix Results_Files_Estrous_Stage/reference_hit_updated_ContaminationRemoved_400Rare_euclidean.qza"
   ]
  },
  {
   "cell_type": "code",
   "execution_count": 11,
   "metadata": {},
   "outputs": [
    {
     "name": "stdout",
     "output_type": "stream",
     "text": [
      "Saved Visualization to: Results_Files_Estrous_Stage/BrayCurtis_Stage_Significance.qzv\n",
      "Saved Visualization to: Results_Files_Estrous_Stage/BrayCurtis_CST_Significance.qzv\n",
      "Saved Visualization to: Results_Files_Estrous_Stage/Euclidean_CST_Significance.qzv\n",
      "Saved Visualization to: Results_Files_Estrous_Stage/Euclidean_Stage_Significance.qzv\n"
     ]
    }
   ],
   "source": [
    "%%bash -e\n",
    "\n",
    "#Significance Testing\n",
    "\n",
    "qiime diversity beta-group-significance \\\n",
    "--i-distance-matrix Results_Files_Estrous_Stage/reference_hit_updated_ContaminationRemoved_400Rare_braycurtis.qza \\\n",
    "--m-metadata-file Results_Files_Estrous_Stage/Qiime_Mapping_File_Estrous_Staging_CST.txt \\\n",
    "--m-metadata-category stage \\\n",
    "--o-visualization Results_Files_Estrous_Stage/BrayCurtis_Stage_Significance.qzv\n",
    "\n",
    "qiime diversity beta-group-significance \\\n",
    "--i-distance-matrix Results_Files_Estrous_Stage/reference_hit_updated_ContaminationRemoved_400Rare_braycurtis.qza \\\n",
    "--m-metadata-file Results_Files_Estrous_Stage/Qiime_Mapping_File_Estrous_Staging_CST.txt \\\n",
    "--m-metadata-category CST_Euc \\\n",
    "--o-visualization Results_Files_Estrous_Stage/BrayCurtis_CST_Significance.qzv\n",
    "\n",
    "qiime diversity beta-group-significance \\\n",
    "--i-distance-matrix Results_Files_Estrous_Stage/reference_hit_updated_ContaminationRemoved_400Rare_euclidean.qza \\\n",
    "--m-metadata-file Results_Files_Estrous_Stage/Qiime_Mapping_File_Estrous_Staging_CST.txt \\\n",
    "--m-metadata-category CST_Euc \\\n",
    "--o-visualization Results_Files_Estrous_Stage/Euclidean_CST_Significance.qzv\n",
    "\n",
    "qiime diversity beta-group-significance \\\n",
    "--i-distance-matrix Results_Files_Estrous_Stage/reference_hit_updated_ContaminationRemoved_400Rare_euclidean.qza \\\n",
    "--m-metadata-file Results_Files_Estrous_Stage/Qiime_Mapping_File_Estrous_Staging_CST.txt \\\n",
    "--m-metadata-category stage \\\n",
    "--o-visualization Results_Files_Estrous_Stage/Euclidean_Stage_Significance.qzv"
   ]
  },
  {
   "cell_type": "code",
   "execution_count": 1,
   "metadata": {},
   "outputs": [
    {
     "name": "stdout",
     "output_type": "stream",
     "text": [
      "Saved Visualization to: Results_Files_Estrous_Stage/BrayCurtis_cage_Significance.qzv\n"
     ]
    }
   ],
   "source": [
    "%%bash -e\n",
    "\n",
    "qiime diversity beta-group-significance \\\n",
    "--i-distance-matrix Results_Files_Estrous_Stage/reference_hit_updated_ContaminationRemoved_400Rare_braycurtis.qza \\\n",
    "--m-metadata-file Results_Files_Estrous_Stage/Qiime_Mapping_File_Estrous_Staging_CST.txt \\\n",
    "--m-metadata-category cage \\\n",
    "--o-visualization Results_Files_Estrous_Stage/BrayCurtis_cage_Significance.qzv"
   ]
  },
  {
   "cell_type": "code",
   "execution_count": 6,
   "metadata": {},
   "outputs": [
    {
     "name": "stdout",
     "output_type": "stream",
     "text": [
      "Saved PCoAResults to: Results_Files_Estrous_Stage/reference_hit_updated_ContaminationRemoved_400Rare_braycurtis_pcoa.qza\n",
      "Saved PCoAResults to: Results_Files_Estrous_Stage/reference_hit_updated_ContaminationRemoved_400Rare_euclidean_pcoa.qza\n"
     ]
    }
   ],
   "source": [
    "%%bash -e\n",
    "\n",
    "qiime diversity pcoa \\\n",
    "--i-distance-matrix Results_Files_Estrous_Stage/reference_hit_updated_ContaminationRemoved_400Rare_braycurtis.qza \\\n",
    "--o-pcoa Results_Files_Estrous_Stage/reference_hit_updated_ContaminationRemoved_400Rare_braycurtis_pcoa.qza\n",
    "\n",
    "qiime diversity pcoa \\\n",
    "--i-distance-matrix Results_Files_Estrous_Stage/reference_hit_updated_ContaminationRemoved_400Rare_euclidean.qza \\\n",
    "--o-pcoa Results_Files_Estrous_Stage/reference_hit_updated_ContaminationRemoved_400Rare_euclidean_pcoa.qza"
   ]
  },
  {
   "cell_type": "code",
   "execution_count": 8,
   "metadata": {},
   "outputs": [
    {
     "name": "stdout",
     "output_type": "stream",
     "text": [
      "Saved Visualization to: Results_Files_Estrous_Stage/reference_hit_updated_ContaminationRemoved_400Rare_braycurtis_pcoa.qzv\n",
      "Saved Visualization to: Results_Files_Estrous_Stage/reference_hit_updated_ContaminationRemoved_400Rare_euclidean_pcoa.qzv\n"
     ]
    }
   ],
   "source": [
    "%%bash -e\n",
    "\n",
    "qiime emperor plot \\\n",
    "--i-pcoa Results_Files_Estrous_Stage/reference_hit_updated_ContaminationRemoved_400Rare_braycurtis_pcoa.qza \\\n",
    "--m-metadata-file Results_Files_Estrous_Stage/Qiime_Mapping_File_Estrous_Staging_CST.txt \\\n",
    "--o-visualization Results_Files_Estrous_Stage/reference_hit_updated_ContaminationRemoved_400Rare_braycurtis_pcoa.qzv\n",
    "\n",
    "qiime emperor plot \\\n",
    "--i-pcoa Results_Files_Estrous_Stage/reference_hit_updated_ContaminationRemoved_400Rare_euclidean_pcoa.qza \\\n",
    "--m-metadata-file Results_Files_Estrous_Stage/Qiime_Mapping_File_Estrous_Staging_CST.txt \\\n",
    "--o-visualization Results_Files_Estrous_Stage/reference_hit_updated_ContaminationRemoved_400Rare_euclidean_pcoa.qzv"
   ]
  },
  {
   "cell_type": "code",
   "execution_count": 2,
   "metadata": {
    "collapsed": true
   },
   "outputs": [],
   "source": [
    "%%bash -e\n",
    "\n",
    "qiime tools export Results_Files_Estrous_Stage/reference_hit_updated_ContaminationRemoved_400Rare_braycurtis.qza --output-dir Results_Files_GBS_Challenge/"
   ]
  },
  {
   "cell_type": "code",
   "execution_count": 1,
   "metadata": {},
   "outputs": [
    {
     "name": "stdout",
     "output_type": "stream",
     "text": [
      "Saved DistanceMatrix to: Results_Files_Estrous_Stage/Bray_Curtis_Day0.qza\n",
      "Saved DistanceMatrix to: Results_Files_Estrous_Stage/Bray_Curtis_Day3.qza\n",
      "Saved DistanceMatrix to: Results_Files_Estrous_Stage/Bray_Curtis_Day6.qza\n",
      "Saved DistanceMatrix to: Results_Files_Estrous_Stage/Bray_Curtis_Day9.qza\n",
      "Saved DistanceMatrix to: Results_Files_Estrous_Stage/Bray_Curtis_Day12.qza\n",
      "Saved DistanceMatrix to: Results_Files_Estrous_Stage/Bray_Curtis_Day15.qza\n"
     ]
    }
   ],
   "source": [
    "%%bash -e\n",
    "\n",
    "qiime diversity filter-distance-matrix \\\n",
    "--i-distance-matrix Results_Files_Estrous_Stage/reference_hit_updated_ContaminationRemoved_400Rare_braycurtis.qza \\\n",
    "--m-metadata-file Results_Files_Estrous_Stage/Qiime_Mapping_File_Estrous_Staging_CST.txt \\\n",
    "--p-where \"day IN (0)\" \\\n",
    "--o-filtered-distance-matrix Results_Files_Estrous_Stage/Bray_Curtis_Day0\n",
    "\n",
    "qiime diversity filter-distance-matrix \\\n",
    "--i-distance-matrix Results_Files_Estrous_Stage/reference_hit_updated_ContaminationRemoved_400Rare_braycurtis.qza \\\n",
    "--m-metadata-file Results_Files_Estrous_Stage/Qiime_Mapping_File_Estrous_Staging_CST.txt \\\n",
    "--p-where \"day IN (3)\" \\\n",
    "--o-filtered-distance-matrix Results_Files_Estrous_Stage/Bray_Curtis_Day3\n",
    "\n",
    "qiime diversity filter-distance-matrix \\\n",
    "--i-distance-matrix Results_Files_Estrous_Stage/reference_hit_updated_ContaminationRemoved_400Rare_braycurtis.qza \\\n",
    "--m-metadata-file Results_Files_Estrous_Stage/Qiime_Mapping_File_Estrous_Staging_CST.txt \\\n",
    "--p-where \"day IN (6)\" \\\n",
    "--o-filtered-distance-matrix Results_Files_Estrous_Stage/Bray_Curtis_Day6\n",
    "\n",
    "qiime diversity filter-distance-matrix \\\n",
    "--i-distance-matrix Results_Files_Estrous_Stage/reference_hit_updated_ContaminationRemoved_400Rare_braycurtis.qza \\\n",
    "--m-metadata-file Results_Files_Estrous_Stage/Qiime_Mapping_File_Estrous_Staging_CST.txt \\\n",
    "--p-where \"day IN (9)\" \\\n",
    "--o-filtered-distance-matrix Results_Files_Estrous_Stage/Bray_Curtis_Day9\n",
    "\n",
    "qiime diversity filter-distance-matrix \\\n",
    "--i-distance-matrix Results_Files_Estrous_Stage/reference_hit_updated_ContaminationRemoved_400Rare_braycurtis.qza \\\n",
    "--m-metadata-file Results_Files_Estrous_Stage/Qiime_Mapping_File_Estrous_Staging_CST.txt \\\n",
    "--p-where \"day IN (12)\" \\\n",
    "--o-filtered-distance-matrix Results_Files_Estrous_Stage/Bray_Curtis_Day12\n",
    "\n",
    "qiime diversity filter-distance-matrix \\\n",
    "--i-distance-matrix Results_Files_Estrous_Stage/reference_hit_updated_ContaminationRemoved_400Rare_braycurtis.qza \\\n",
    "--m-metadata-file Results_Files_Estrous_Stage/Qiime_Mapping_File_Estrous_Staging_CST.txt \\\n",
    "--p-where \"day IN (15)\" \\\n",
    "--o-filtered-distance-matrix Results_Files_Estrous_Stage/Bray_Curtis_Day15"
   ]
  },
  {
   "cell_type": "code",
   "execution_count": 3,
   "metadata": {},
   "outputs": [
    {
     "name": "stdout",
     "output_type": "stream",
     "text": [
      "Saved Visualization to: Results_Files_Estrous_Stage/Cage_d0_sig.qzv\n",
      "Saved Visualization to: Results_Files_Estrous_Stage/Cage_d3_sig.qzv\n",
      "Saved Visualization to: Results_Files_Estrous_Stage/Cage_d6_sig.qzv\n",
      "Saved Visualization to: Results_Files_Estrous_Stage/Cage_d9_sig.qzv\n",
      "Saved Visualization to: Results_Files_Estrous_Stage/Cage_d12_sig.qzv\n",
      "Saved Visualization to: Results_Files_Estrous_Stage/Cage_d15_sig.qzv\n"
     ]
    }
   ],
   "source": [
    "%%bash -e\n",
    "\n",
    "qiime diversity beta-group-significance \\\n",
    "--i-distance-matrix Results_Files_Estrous_Stage/Bray_Curtis_Day0.qza \\\n",
    "--m-metadata-file Results_Files_Estrous_Stage/Qiime_Mapping_File_Estrous_Staging_CST.txt \\\n",
    "--m-metadata-category cage \\\n",
    "--o-visualization Results_Files_Estrous_Stage/Cage_d0_sig.qzv\n",
    "\n",
    "qiime diversity beta-group-significance \\\n",
    "--i-distance-matrix Results_Files_Estrous_Stage/Bray_Curtis_Day3.qza \\\n",
    "--m-metadata-file Results_Files_Estrous_Stage/Qiime_Mapping_File_Estrous_Staging_CST.txt \\\n",
    "--m-metadata-category cage \\\n",
    "--o-visualization Results_Files_Estrous_Stage/Cage_d3_sig.qzv\n",
    "\n",
    "qiime diversity beta-group-significance \\\n",
    "--i-distance-matrix Results_Files_Estrous_Stage/Bray_Curtis_Day6.qza \\\n",
    "--m-metadata-file Results_Files_Estrous_Stage/Qiime_Mapping_File_Estrous_Staging_CST.txt \\\n",
    "--m-metadata-category cage \\\n",
    "--o-visualization Results_Files_Estrous_Stage/Cage_d6_sig.qzv\n",
    "\n",
    "qiime diversity beta-group-significance \\\n",
    "--i-distance-matrix Results_Files_Estrous_Stage/Bray_Curtis_Day9.qza \\\n",
    "--m-metadata-file Results_Files_Estrous_Stage/Qiime_Mapping_File_Estrous_Staging_CST.txt \\\n",
    "--m-metadata-category cage \\\n",
    "--o-visualization Results_Files_Estrous_Stage/Cage_d9_sig.qzv\n",
    "\n",
    "qiime diversity beta-group-significance \\\n",
    "--i-distance-matrix Results_Files_Estrous_Stage/Bray_Curtis_Day12.qza \\\n",
    "--m-metadata-file Results_Files_Estrous_Stage/Qiime_Mapping_File_Estrous_Staging_CST.txt \\\n",
    "--m-metadata-category cage \\\n",
    "--o-visualization Results_Files_Estrous_Stage/Cage_d12_sig.qzv\n",
    "\n",
    "qiime diversity beta-group-significance \\\n",
    "--i-distance-matrix Results_Files_Estrous_Stage/Bray_Curtis_Day15.qza \\\n",
    "--m-metadata-file Results_Files_Estrous_Stage/Qiime_Mapping_File_Estrous_Staging_CST.txt \\\n",
    "--m-metadata-category cage \\\n",
    "--o-visualization Results_Files_Estrous_Stage/Cage_d15_sig.qzv"
   ]
  },
  {
   "cell_type": "code",
   "execution_count": 9,
   "metadata": {},
   "outputs": [
    {
     "name": "stdout",
     "output_type": "stream",
     "text": [
      "Saved DistanceMatrix to: Results_Files_Estrous_Stage/Longitudinal_Bray_Curtis.qza\n"
     ]
    }
   ],
   "source": [
    "%%bash -e\n",
    "qiime diversity filter-distance-matrix \\\n",
    "--i-distance-matrix Results_Files_Estrous_Stage/reference_hit_updated_ContaminationRemoved_400Rare_braycurtis.qza \\\n",
    "--m-metadata-file Results_Files_Estrous_Stage/Qiime_Mapping_File_Estrous_Staging_CST.txt \\\n",
    "--p-where \"group_name IN ('longitudinal')\" \\\n",
    "--o-filtered-distance-matrix Results_Files_Estrous_Stage/Longitudinal_Bray_Curtis"
   ]
  },
  {
   "cell_type": "code",
   "execution_count": 10,
   "metadata": {},
   "outputs": [
    {
     "name": "stdout",
     "output_type": "stream",
     "text": [
      "Saved PCoAResults to: Results_Files_Estrous_Stage/Longitudinal_Bray_Curtis_pcoa.qza\n"
     ]
    }
   ],
   "source": [
    "%%bash -e\n",
    "\n",
    "qiime diversity pcoa \\\n",
    "--i-distance-matrix Results_Files_Estrous_Stage/Longitudinal_Bray_Curtis.qza \\\n",
    "--o-pcoa Results_Files_Estrous_Stage/Longitudinal_Bray_Curtis_pcoa"
   ]
  },
  {
   "cell_type": "code",
   "execution_count": 11,
   "metadata": {},
   "outputs": [
    {
     "name": "stdout",
     "output_type": "stream",
     "text": [
      "Saved Visualization to: Results_Files_Estrous_Stage/reference_hit_updated_ContaminationRemoved_400Rare_braycurtis_pcoa_DAY_long.qzv\n"
     ]
    }
   ],
   "source": [
    "%%bash -e\n",
    "\n",
    "qiime emperor plot \\\n",
    "--i-pcoa Results_Files_Estrous_Stage/Longitudinal_Bray_Curtis_pcoa.qza \\\n",
    "--m-metadata-file Results_Files_Estrous_Stage/Qiime_Mapping_File_Estrous_Staging_CST.txt \\\n",
    "--p-custom-axis 'day' \\\n",
    "--o-visualization Results_Files_Estrous_Stage/reference_hit_updated_ContaminationRemoved_400Rare_braycurtis_pcoa_DAY_long.qzv"
   ]
  },
  {
   "cell_type": "markdown",
   "metadata": {},
   "source": [
    "### GBS Pathogen Challenge Study"
   ]
  },
  {
   "cell_type": "markdown",
   "metadata": {},
   "source": [
    "Data Processing"
   ]
  },
  {
   "cell_type": "code",
   "execution_count": 27,
   "metadata": {},
   "outputs": [
    {
     "name": "stdout",
     "output_type": "stream",
     "text": [
      "Saved FeatureTable[Frequency] to: Results_Files_GBS_Challenge/reference_hit_updated.qza\n",
      "Saved FeatureTable[Frequency] to: Results_Files_GBS_Challenge/reference_hit_updated_ContaminationRemoved.qza\n",
      "Saved FeatureTable[Frequency] to: Results_Files_GBS_Challenge/reference_hit_updated_ContaminationRemoved.qza\n",
      "Saved FeatureTable[Frequency] to: Results_Files_GBS_Challenge/reference_hit_updated_ContaminationRemoved_GBS_PBS.qza\n"
     ]
    }
   ],
   "source": [
    "%%bash -e\n",
    "\n",
    "#Removing reads that don't appear in at least 2 samples\n",
    "\n",
    "qiime feature-table filter-features \\\n",
    "  --i-table Raw_Files_GBS_Challenge/reference_hit_updated.qza \\\n",
    "  --p-min-samples 2 \\\n",
    "  --o-filtered-table Results_Files_GBS_Challenge/reference_hit_updated.qza\n",
    "\n",
    "#Filtering out contaminants, determined from analyzing blanks\n",
    "\n",
    "qiime feature-table filter-features \\\n",
    "--i-table Results_Files_GBS_Challenge/reference_hit_updated.qza \\\n",
    "--m-metadata-file Raw_Files_GBS_Challenge/Contaminants_All.txt \\\n",
    "--p-exclude-ids \\\n",
    "--o-filtered-table Results_Files_GBS_Challenge/reference_hit_updated_ContaminationRemoved.qza\n",
    "\n",
    "#Removing the mitochondria and chloroplasts\n",
    "qiime taxa filter-table \\\n",
    "  --i-table Results_Files_GBS_Challenge/reference_hit_updated_ContaminationRemoved.qza \\\n",
    "  --i-taxonomy Raw_Files_GBS_Challenge/Classification.qza \\\n",
    "  --p-exclude mitochondria,chloroplast \\\n",
    "  --o-filtered-table Results_Files_GBS_Challenge/reference_hit_updated_ContaminationRemoved.qza\n",
    "\n",
    "#This feature table contains samples not discussed in the paper, filter to only look at the GBS and \n",
    "#PBS control mice and remove the blanks\n",
    "\n",
    "qiime feature-table filter-samples \\\n",
    "  --i-table Results_Files_GBS_Challenge/reference_hit_updated_ContaminationRemoved.qza \\\n",
    "  --m-metadata-file Raw_Files_GBS_Challenge/Qiime_Mapping_File_GBS_Pathogen_Challenge.txt \\\n",
    "  --p-where \"treatment_group IN ('GBS', 'PBS')\" \\\n",
    "  --o-filtered-table Results_Files_GBS_Challenge/reference_hit_updated_ContaminationRemoved_GBS_PBS.qza\n"
   ]
  },
  {
   "cell_type": "code",
   "execution_count": 28,
   "metadata": {},
   "outputs": [
    {
     "name": "stdout",
     "output_type": "stream",
     "text": [
      "Saved FeatureTable[Frequency] to: Results_Files_GBS_Challenge/reference_hit_updated_ContaminationRemoved_GBS_PBS_500Rare.qza\n"
     ]
    }
   ],
   "source": [
    "%%bash -e\n",
    "\n",
    "#Rarifying the table (depth determined by alpha rarefaction curves)\n",
    "\n",
    "qiime feature-table rarefy \\\n",
    "--i-table Results_Files_GBS_Challenge/reference_hit_updated_ContaminationRemoved_GBS_PBS.qza \\\n",
    "--p-sampling-depth 500 \\\n",
    "--o-rarefied-table Results_Files_GBS_Challenge/reference_hit_updated_ContaminationRemoved_GBS_PBS_500Rare.qza"
   ]
  },
  {
   "cell_type": "code",
   "execution_count": 29,
   "metadata": {
    "collapsed": true
   },
   "outputs": [],
   "source": [
    "%%bash -e\n",
    "\n",
    "qiime tools export Results_Files_GBS_Challenge/reference_hit_updated_ContaminationRemoved_GBS_PBS_500Rare.qza --output-dir Results_Files_GBS_Challenge/"
   ]
  },
  {
   "cell_type": "code",
   "execution_count": 30,
   "metadata": {
    "collapsed": true
   },
   "outputs": [],
   "source": [
    "!biom convert -i Results_Files_GBS_Challenge/reference_hit_updated_ContaminationRemoved_GBS_PBS_500Rare.biom -o Results_Files_GBS_Challenge/reference_hit_updated_ContaminationRemoved_GBS_PBS_500Rare.txt --to-tsv"
   ]
  },
  {
   "cell_type": "code",
   "execution_count": 3,
   "metadata": {},
   "outputs": [
    {
     "name": "stdout",
     "output_type": "stream",
     "text": [
      "Saved DistanceMatrix to: Results_Files_GBS_Challenge/reference_hit_updated_ContaminationRemoved_GBS_PBS_500Rare_Euc.qza\n",
      "Saved SampleData[FirstDifferences] to: Results_Files_GBS_Challenge/reference_hit_updated_ContaminationRemoved_GBS_PBS_500Rare_Euc_firstdist.qza\n"
     ]
    }
   ],
   "source": [
    "%%bash -e\n",
    "\n",
    "#First Distances Analysis\n",
    "\n",
    "qiime diversity beta \\\n",
    "--i-table Results_Files_GBS_Challenge/reference_hit_updated_ContaminationRemoved_GBS_PBS_500Rare.qza \\\n",
    "--p-metric euclidean \\\n",
    "--o-distance-matrix Results_Files_GBS_Challenge/reference_hit_updated_ContaminationRemoved_GBS_PBS_500Rare_Euc.qza\n",
    "\n",
    "qiime longitudinal first-distances \\\n",
    "--i-distance-matrix Results_Files_GBS_Challenge/reference_hit_updated_ContaminationRemoved_GBS_PBS_500Rare_Euc.qza \\\n",
    "--m-metadata-file Results_Files_GBS_Challenge/Qiime_Mapping_File_GBS_Pathogen_Challenge_CST.txt \\\n",
    "--p-state-column 'day' \\\n",
    "--p-individual-id-column 'host_subject_id' \\\n",
    "--o-first-distances Results_Files_GBS_Challenge/reference_hit_updated_ContaminationRemoved_GBS_PBS_500Rare_Euc_firstdist.qza"
   ]
  },
  {
   "cell_type": "code",
   "execution_count": 45,
   "metadata": {},
   "outputs": [
    {
     "name": "stdout",
     "output_type": "stream",
     "text": [
      "Saved DistanceMatrix to: Results_Files_GBS_Challenge/reference_hit_updated_ContaminationRemoved_GBS_PBS_500Rare_BrayCurtis.qza\n",
      "Saved SampleData[FirstDifferences] to: Results_Files_GBS_Challenge/reference_hit_updated_ContaminationRemoved_GBS_PBS_500Rare_BrayCurtis_firstdist.qza\n"
     ]
    }
   ],
   "source": [
    "%%bash -e\n",
    "\n",
    "#First Distances Analysis\n",
    "\n",
    "qiime diversity beta \\\n",
    "--i-table Results_Files_GBS_Challenge/reference_hit_updated_ContaminationRemoved_GBS_PBS_500Rare.qza \\\n",
    "--p-metric braycurtis \\\n",
    "--o-distance-matrix Results_Files_GBS_Challenge/reference_hit_updated_ContaminationRemoved_GBS_PBS_500Rare_BrayCurtis.qza\n",
    "\n",
    "qiime longitudinal first-distances \\\n",
    "--i-distance-matrix Results_Files_GBS_Challenge/reference_hit_updated_ContaminationRemoved_GBS_PBS_500Rare_BrayCurtis.qza \\\n",
    "--m-metadata-file Results_Files_GBS_Challenge/Qiime_Mapping_File_GBS_Pathogen_Challenge_CST.txt \\\n",
    "--p-state-column 'day' \\\n",
    "--p-individual-id-column 'host_subject_id' \\\n",
    "--o-first-distances Results_Files_GBS_Challenge/reference_hit_updated_ContaminationRemoved_GBS_PBS_500Rare_BrayCurtis_firstdist.qza"
   ]
  },
  {
   "cell_type": "code",
   "execution_count": null,
   "metadata": {
    "collapsed": true
   },
   "outputs": [],
   "source": [
    "%%bash -e\n",
    "\n",
    "qiime tools export Results_Files_GBS_Challenge/reference_hit_updated_ContaminationRemoved_GBS_PBS_500Rare_Euc_firstdist.qza --output-dir Results_Files_GBS_Challenge/"
   ]
  },
  {
   "cell_type": "code",
   "execution_count": 46,
   "metadata": {
    "collapsed": true
   },
   "outputs": [],
   "source": [
    "%%bash -e\n",
    "\n",
    "qiime tools export Results_Files_GBS_Challenge/reference_hit_updated_ContaminationRemoved_GBS_PBS_500Rare_BrayCurtis_firstdist.qza --output-dir Results_Files_GBS_Challenge/"
   ]
  },
  {
   "cell_type": "code",
   "execution_count": 27,
   "metadata": {},
   "outputs": [
    {
     "name": "stdout",
     "output_type": "stream",
     "text": [
      "Saved FeatureTable[Frequency] to: Results_Files_GBS_Challenge/reference_hit_updated_ContaminationRemoved_GBS_PBS_500Filtered.qza\n"
     ]
    }
   ],
   "source": [
    "%%bash -e\n",
    "\n",
    "qiime feature-table filter-samples \\\n",
    "  --i-table Results_Files_GBS_Challenge/reference_hit_updated_ContaminationRemoved_GBS_PBS.qza \\\n",
    "  --p-min-frequency 500 \\\n",
    "  --o-filtered-table Results_Files_GBS_Challenge/reference_hit_updated_ContaminationRemoved_GBS_PBS_500Filtered.qza"
   ]
  },
  {
   "cell_type": "code",
   "execution_count": 41,
   "metadata": {},
   "outputs": [
    {
     "name": "stdout",
     "output_type": "stream",
     "text": [
      "Saved FeatureTable[Frequency] to: Results_Files_GBS_Challenge/reference_hit_updated_ContaminationRemoved_GBS_PBS_500Filtered_L7.qza\n"
     ]
    }
   ],
   "source": [
    "%%bash -e\n",
    "\n",
    "qiime taxa collapse \\\n",
    "--i-table Results_Files_GBS_Challenge/reference_hit_updated_ContaminationRemoved_GBS_PBS_500Filtered.qza \\\n",
    "--i-taxonomy Raw_Files_GBS_Challenge/Classification.qza \\\n",
    "--p-level 7 \\\n",
    "--o-collapsed-table Results_Files_GBS_Challenge/reference_hit_updated_ContaminationRemoved_GBS_PBS_500Filtered_L7.qza"
   ]
  },
  {
   "cell_type": "code",
   "execution_count": 42,
   "metadata": {},
   "outputs": [
    {
     "name": "stdout",
     "output_type": "stream",
     "text": [
      "Saved FeatureTable[Composition] to: Results_Files_GBS_Challenge/reference_hit_updated_ContaminationRemoved_GBS_PBS_500Filtered_L7_pseudo.qza\n"
     ]
    }
   ],
   "source": [
    "%%bash -e\n",
    "\n",
    "#Add a pseudocount for log ratios\n",
    "\n",
    "qiime composition add-pseudocount \\\n",
    "  --i-table Results_Files_GBS_Challenge/reference_hit_updated_ContaminationRemoved_GBS_PBS_500Filtered_L7.qza \\\n",
    "  --o-composition-table Results_Files_GBS_Challenge/reference_hit_updated_ContaminationRemoved_GBS_PBS_500Filtered_L7_pseudo.qza"
   ]
  },
  {
   "cell_type": "code",
   "execution_count": 43,
   "metadata": {
    "collapsed": true
   },
   "outputs": [],
   "source": [
    "%%bash -e\n",
    "\n",
    "qiime tools export Results_Files_GBS_Challenge/reference_hit_updated_ContaminationRemoved_GBS_PBS_500Filtered_L7_pseudo.qza --output-dir Results_Files_GBS_Challenge/"
   ]
  },
  {
   "cell_type": "code",
   "execution_count": 44,
   "metadata": {
    "collapsed": true
   },
   "outputs": [],
   "source": [
    "!biom convert -i Results_Files_GBS_Challenge/reference_hit_updated_ContaminationRemoved_GBS_PBS_500Filtered_L7_pseudo.biom -o Results_Files_GBS_Challenge/reference_hit_updated_ContaminationRemoved_GBS_PBS_500Filtered_L7_pseudo.txt --to-tsv"
   ]
  }
 ],
 "metadata": {
  "kernelspec": {
   "display_name": "Python 3",
   "language": "python",
   "name": "python3"
  },
  "language_info": {
   "codemirror_mode": {
    "name": "ipython",
    "version": 3
   },
   "file_extension": ".py",
   "mimetype": "text/x-python",
   "name": "python",
   "nbconvert_exporter": "python",
   "pygments_lexer": "ipython3",
   "version": "3.5.4"
  }
 },
 "nbformat": 4,
 "nbformat_minor": 1
}
